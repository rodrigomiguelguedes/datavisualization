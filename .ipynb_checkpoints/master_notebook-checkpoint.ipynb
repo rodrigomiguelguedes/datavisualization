{
 "cells": [
  {
   "cell_type": "markdown",
   "id": "8c16bb6e",
   "metadata": {},
   "source": [
    "# This is the master notebook for the Data Visualization project\n",
    "\n",
    "\n",
    "## Project Description\n",
    "\n",
    "This is the description of our project.\n",
    "\n",
    "These are the tasks we have developed:\n",
    "\n",
    "These are the tasks we need to develop:"
   ]
  },
  {
   "cell_type": "code",
   "execution_count": null,
   "id": "4d024fb2",
   "metadata": {},
   "outputs": [],
   "source": []
  }
 ],
 "metadata": {
  "kernelspec": {
   "display_name": "Python 3",
   "language": "python",
   "name": "python3"
  },
  "language_info": {
   "codemirror_mode": {
    "name": "ipython",
    "version": 3
   },
   "file_extension": ".py",
   "mimetype": "text/x-python",
   "name": "python",
   "nbconvert_exporter": "python",
   "pygments_lexer": "ipython3",
   "version": "3.8.8"
  }
 },
 "nbformat": 4,
 "nbformat_minor": 5
}
