{
 "cells": [
  {
   "cell_type": "markdown",
   "id": "8c16bb6e",
   "metadata": {},
   "source": [
    "# This is the master notebook for the Data Visualization project\n",
    "\n",
    "\n",
    "## Project Description\n",
    "\n",
    "This is the description of our project.\n",
    "\n",
    "These are the tasks we have developed:\n",
    "\n",
    "These are the tasks we need to develop:"
   ]
  },
  {
   "cell_type": "code",
   "execution_count": 1,
   "id": "4d024fb2",
   "metadata": {},
   "outputs": [
    {
     "name": "stdout",
     "output_type": "stream",
     "text": [
      "Requirement already satisfied: jupyter-kite in c:\\users\\rodri\\anaconda3\\lib\\site-packages (2.0.2)\n",
      "Requirement already satisfied: jupyter-server>=1.1.2 in c:\\users\\rodri\\anaconda3\\lib\\site-packages (from jupyter-kite) (1.4.1)\n",
      "Requirement already satisfied: tornado>=5.1.0 in c:\\users\\rodri\\anaconda3\\lib\\site-packages (from jupyter-kite) (6.1)\n",
      "Requirement already satisfied: entrypoints in c:\\users\\rodri\\anaconda3\\lib\\site-packages (from jupyter-kite) (0.3)\n",
      "Requirement already satisfied: nbconvert in c:\\users\\rodri\\anaconda3\\lib\\site-packages (from jupyter-server>=1.1.2->jupyter-kite) (6.0.7)\n",
      "Requirement already satisfied: pywin32>=1.0 in c:\\users\\rodri\\anaconda3\\lib\\site-packages (from jupyter-server>=1.1.2->jupyter-kite) (227)\n",
      "Requirement already satisfied: pyzmq>=17 in c:\\users\\rodri\\anaconda3\\lib\\site-packages (from jupyter-server>=1.1.2->jupyter-kite) (20.0.0)\n",
      "Requirement already satisfied: nbformat in c:\\users\\rodri\\anaconda3\\lib\\site-packages (from jupyter-server>=1.1.2->jupyter-kite) (5.1.3)\n",
      "Requirement already satisfied: ipython-genutils in c:\\users\\rodri\\anaconda3\\lib\\site-packages (from jupyter-server>=1.1.2->jupyter-kite) (0.2.0)\n",
      "Requirement already satisfied: jupyter-client>=6.1.1 in c:\\users\\rodri\\anaconda3\\lib\\site-packages (from jupyter-server>=1.1.2->jupyter-kite) (6.1.12)\n",
      "Requirement already satisfied: terminado>=0.8.3 in c:\\users\\rodri\\anaconda3\\lib\\site-packages (from jupyter-server>=1.1.2->jupyter-kite) (0.9.4)\n",
      "Requirement already satisfied: jinja2 in c:\\users\\rodri\\anaconda3\\lib\\site-packages (from jupyter-server>=1.1.2->jupyter-kite) (2.11.3)\n",
      "Requirement already satisfied: anyio>=2.0.2 in c:\\users\\rodri\\anaconda3\\lib\\site-packages (from jupyter-server>=1.1.2->jupyter-kite) (2.2.0)\n",
      "Requirement already satisfied: jupyter-core>=4.4.0 in c:\\users\\rodri\\anaconda3\\lib\\site-packages (from jupyter-server>=1.1.2->jupyter-kite) (4.7.1)\n",
      "Requirement already satisfied: Send2Trash in c:\\users\\rodri\\anaconda3\\lib\\site-packages (from jupyter-server>=1.1.2->jupyter-kite) (1.5.0)\n",
      "Requirement already satisfied: prometheus-client in c:\\users\\rodri\\anaconda3\\lib\\site-packages (from jupyter-server>=1.1.2->jupyter-kite) (0.10.1)\n",
      "Requirement already satisfied: traitlets>=4.2.1 in c:\\users\\rodri\\anaconda3\\lib\\site-packages (from jupyter-server>=1.1.2->jupyter-kite) (5.0.5)\n",
      "Requirement already satisfied: sniffio>=1.1 in c:\\users\\rodri\\anaconda3\\lib\\site-packages (from anyio>=2.0.2->jupyter-server>=1.1.2->jupyter-kite) (1.2.0)\n",
      "Requirement already satisfied: idna>=2.8 in c:\\users\\rodri\\anaconda3\\lib\\site-packages (from anyio>=2.0.2->jupyter-server>=1.1.2->jupyter-kite) (2.10)\n",
      "Requirement already satisfied: python-dateutil>=2.1 in c:\\users\\rodri\\anaconda3\\lib\\site-packages (from jupyter-client>=6.1.1->jupyter-server>=1.1.2->jupyter-kite) (2.8.1)\n",
      "Requirement already satisfied: six>=1.5 in c:\\users\\rodri\\anaconda3\\lib\\site-packages (from python-dateutil>=2.1->jupyter-client>=6.1.1->jupyter-server>=1.1.2->jupyter-kite) (1.15.0)\n",
      "Requirement already satisfied: pywinpty>=0.5 in c:\\users\\rodri\\anaconda3\\lib\\site-packages (from terminado>=0.8.3->jupyter-server>=1.1.2->jupyter-kite) (0.5.7)\n",
      "Requirement already satisfied: MarkupSafe>=0.23 in c:\\users\\rodri\\anaconda3\\lib\\site-packages (from jinja2->jupyter-server>=1.1.2->jupyter-kite) (2.0.1)\n",
      "Requirement already satisfied: testpath in c:\\users\\rodri\\anaconda3\\lib\\site-packages (from nbconvert->jupyter-server>=1.1.2->jupyter-kite) (0.4.4)\n",
      "Requirement already satisfied: jupyterlab-pygments in c:\\users\\rodri\\anaconda3\\lib\\site-packages (from nbconvert->jupyter-server>=1.1.2->jupyter-kite) (0.1.2)\n",
      "Requirement already satisfied: bleach in c:\\users\\rodri\\anaconda3\\lib\\site-packages (from nbconvert->jupyter-server>=1.1.2->jupyter-kite) (3.3.0)\n",
      "Requirement already satisfied: mistune<2,>=0.8.1 in c:\\users\\rodri\\anaconda3\\lib\\site-packages (from nbconvert->jupyter-server>=1.1.2->jupyter-kite) (0.8.4)\n",
      "Requirement already satisfied: pandocfilters>=1.4.1 in c:\\users\\rodri\\anaconda3\\lib\\site-packages (from nbconvert->jupyter-server>=1.1.2->jupyter-kite) (1.4.3)\n",
      "Requirement already satisfied: pygments>=2.4.1 in c:\\users\\rodri\\anaconda3\\lib\\site-packages (from nbconvert->jupyter-server>=1.1.2->jupyter-kite) (2.8.1)\n",
      "Requirement already satisfied: nbclient<0.6.0,>=0.5.0 in c:\\users\\rodri\\anaconda3\\lib\\site-packages (from nbconvert->jupyter-server>=1.1.2->jupyter-kite) (0.5.3)\n",
      "Requirement already satisfied: defusedxml in c:\\users\\rodri\\anaconda3\\lib\\site-packages (from nbconvert->jupyter-server>=1.1.2->jupyter-kite) (0.7.1)\n",
      "Requirement already satisfied: nest-asyncio in c:\\users\\rodri\\anaconda3\\lib\\site-packages (from nbclient<0.6.0,>=0.5.0->nbconvert->jupyter-server>=1.1.2->jupyter-kite) (1.5.1)\n",
      "Requirement already satisfied: async-generator in c:\\users\\rodri\\anaconda3\\lib\\site-packages (from nbclient<0.6.0,>=0.5.0->nbconvert->jupyter-server>=1.1.2->jupyter-kite) (1.10)\n",
      "Requirement already satisfied: jsonschema!=2.5.0,>=2.4 in c:\\users\\rodri\\anaconda3\\lib\\site-packages (from nbformat->jupyter-server>=1.1.2->jupyter-kite) (3.2.0)\n",
      "Requirement already satisfied: setuptools in c:\\users\\rodri\\anaconda3\\lib\\site-packages (from jsonschema!=2.5.0,>=2.4->nbformat->jupyter-server>=1.1.2->jupyter-kite) (52.0.0.post20210125)\n",
      "Requirement already satisfied: pyrsistent>=0.14.0 in c:\\users\\rodri\\anaconda3\\lib\\site-packages (from jsonschema!=2.5.0,>=2.4->nbformat->jupyter-server>=1.1.2->jupyter-kite) (0.17.3)\n",
      "Requirement already satisfied: attrs>=17.4.0 in c:\\users\\rodri\\anaconda3\\lib\\site-packages (from jsonschema!=2.5.0,>=2.4->nbformat->jupyter-server>=1.1.2->jupyter-kite) (20.3.0)\n",
      "Requirement already satisfied: packaging in c:\\users\\rodri\\anaconda3\\lib\\site-packages (from bleach->nbconvert->jupyter-server>=1.1.2->jupyter-kite) (20.9)\n",
      "Requirement already satisfied: webencodings in c:\\users\\rodri\\anaconda3\\lib\\site-packages (from bleach->nbconvert->jupyter-server>=1.1.2->jupyter-kite) (0.5.1)\n",
      "Requirement already satisfied: pyparsing>=2.0.2 in c:\\users\\rodri\\anaconda3\\lib\\site-packages (from packaging->bleach->nbconvert->jupyter-server>=1.1.2->jupyter-kite) (2.4.7)\n",
      "Note: you may need to restart the kernel to use updated packages.\n"
     ]
    }
   ],
   "source": [
    "pip install jupyter-kite"
   ]
  },
  {
   "cell_type": "code",
   "execution_count": null,
   "id": "16c3b380",
   "metadata": {},
   "outputs": [],
   "source": [
    "print()"
   ]
  }
 ],
 "metadata": {
  "kernelspec": {
   "display_name": "Python 3",
   "language": "python",
   "name": "python3"
  },
  "language_info": {
   "codemirror_mode": {
    "name": "ipython",
    "version": 3
   },
   "file_extension": ".py",
   "mimetype": "text/x-python",
   "name": "python",
   "nbconvert_exporter": "python",
   "pygments_lexer": "ipython3",
   "version": "3.8.8"
  }
 },
 "nbformat": 4,
 "nbformat_minor": 5
}
